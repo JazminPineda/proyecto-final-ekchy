{
 "cells": [
  {
   "cell_type": "markdown",
   "metadata": {},
   "source": [
    " # Instalando el ambiente\n",
    "\n",
    "1. Create un nuevo virtualenv, activalo y actualizá `pip`: `python -m venv venv && source venv/bin/activate.fish && python -m pip install --upgrade pip setuptools`,\n",
    "2. Instalá *Jupyter Lab*: `python -m pip install jupyterlab`,\n",
    "3. Instalá las \\\"Google libs\\\": `python -m pip install google-api-python-client google-auth-httplib2 google-auth-oauthlib`,\n",
    "4. Creá un link simbólico que se llame `credentials.json` al JSON que tiene tus credenciales bajadas,\n",
    "\n",
    "Se crea con el objetivo de guardar todas las librerias y dependencias necesarias que requiera el proyecto. "
   ]
  },
  {
   "cell_type": "markdown",
   "metadata": {},
   "source": [
    "# Etapa 1 Extración de los datos de los pdf\n",
    "En este Jupyter notebook creo los bloques con todos los ejemplos para recopilar los direrentes tipos de datos en los pdf.\n",
    "A continuación menciono que no mer sirvio y porque lo descarte. \n"
   ]
  },
  {
   "cell_type": "markdown",
   "metadata": {},
   "source": [
    "### 1) No me sirvio utilizar PyPDF2\n",
    "Es complicado de entender la información ya que me trae metadatos como la fecha de creación del archivo, autor y demás, por lo anterior concluí no me sirve para mi desarrollo. \n",
    "Intenté con otro código pero me sigue generando un error ya teniendo instalado el paquete de PdfReader"
   ]
  },
  {
   "cell_type": "code",
   "execution_count": 1,
   "metadata": {},
   "outputs": [
    {
     "ename": "ModuleNotFoundError",
     "evalue": "No module named 'PdfReader'",
     "output_type": "error",
     "traceback": [
      "\u001b[1;31m---------------------------------------------------------------------------\u001b[0m",
      "\u001b[1;31mModuleNotFoundError\u001b[0m                       Traceback (most recent call last)",
      "\u001b[1;32md:\\Programacion\\Proyecto Final eKchý\\repositorio\\docs\\helper.ipynb Cell 4'\u001b[0m in \u001b[0;36m<cell line: 2>\u001b[1;34m()\u001b[0m\n\u001b[0;32m      <a href='vscode-notebook-cell:/d%3A/Programacion/Proyecto%20Final%20eKch%C3%BD/repositorio/docs/helper.ipynb#ch0000003?line=0'>1</a>\u001b[0m \u001b[39mimport\u001b[39;00m \u001b[39mPyPDF2\u001b[39;00m \n\u001b[1;32m----> <a href='vscode-notebook-cell:/d%3A/Programacion/Proyecto%20Final%20eKch%C3%BD/repositorio/docs/helper.ipynb#ch0000003?line=1'>2</a>\u001b[0m \u001b[39mimport\u001b[39;00m \u001b[39mPdfReader\u001b[39;00m\n\u001b[0;32m      <a href='vscode-notebook-cell:/d%3A/Programacion/Proyecto%20Final%20eKch%C3%BD/repositorio/docs/helper.ipynb#ch0000003?line=2'>3</a>\u001b[0m pdf_file_obj\u001b[39m=\u001b[39m \u001b[39mopen\u001b[39m(\u001b[39m\"\u001b[39m\u001b[39mD:\u001b[39m\u001b[39m\\\\\u001b[39;00m\u001b[39mJazmin\u001b[39m\u001b[39m\\\\\u001b[39;00m\u001b[39mArchivos Personales\u001b[39m\u001b[39m\\\\\u001b[39;00m\u001b[39mFacultad\u001b[39m\u001b[39m\\\\\u001b[39;00m\u001b[39mFacultad Analista de Sistemas\u001b[39m\u001b[39m\\\\\u001b[39;00m\u001b[39m5 CUATRI\u001b[39m\u001b[39m\\\\\u001b[39;00m\u001b[39m4Practica Profesional\u001b[39m\u001b[39m\\\\\u001b[39;00m\u001b[39mRecibos\u001b[39m\u001b[39m\\\\\u001b[39;00m\u001b[39mARG\u001b[39m\u001b[39m\\\\\u001b[39;00m\u001b[39mPruebaAR02_IVA_DDJJ.pdf\u001b[39m\u001b[39m\"\u001b[39m, \u001b[39m\"\u001b[39m\u001b[39mrb\u001b[39m\u001b[39m\"\u001b[39m)\n\u001b[0;32m      <a href='vscode-notebook-cell:/d%3A/Programacion/Proyecto%20Final%20eKch%C3%BD/repositorio/docs/helper.ipynb#ch0000003?line=3'>4</a>\u001b[0m \u001b[39m# pdf_read= PyPDF2.PdfFileReader(pdf_file_obj)\u001b[39;00m\n\u001b[0;32m      <a href='vscode-notebook-cell:/d%3A/Programacion/Proyecto%20Final%20eKch%C3%BD/repositorio/docs/helper.ipynb#ch0000003?line=4'>5</a>\u001b[0m \u001b[39m# info =pdf_read.getDocumentInfo()\u001b[39;00m\n\u001b[0;32m      <a href='vscode-notebook-cell:/d%3A/Programacion/Proyecto%20Final%20eKch%C3%BD/repositorio/docs/helper.ipynb#ch0000003?line=5'>6</a>\u001b[0m \u001b[39m# print(info)\u001b[39;00m\n\u001b[0;32m      <a href='vscode-notebook-cell:/d%3A/Programacion/Proyecto%20Final%20eKch%C3%BD/repositorio/docs/helper.ipynb#ch0000003?line=6'>7</a>\u001b[0m \u001b[39m# print(pdf_read.pages)\u001b[39;00m\n\u001b[0;32m      <a href='vscode-notebook-cell:/d%3A/Programacion/Proyecto%20Final%20eKch%C3%BD/repositorio/docs/helper.ipynb#ch0000003?line=7'>8</a>\u001b[0m \u001b[39m# print(pdf_read.pages[0].extract_text())\u001b[39;00m\n",
      "\u001b[1;31mModuleNotFoundError\u001b[0m: No module named 'PdfReader'"
     ]
    }
   ],
   "source": [
    "import PyPDF2 \n",
    "import PdfReader\n",
    "pdf_file_obj= open(\"D:\\\\Jazmin\\\\Archivos Personales\\\\Facultad\\\\Facultad Analista de Sistemas\\\\5 CUATRI\\\\4Practica Profesional\\\\Recibos\\\\ARG\\\\PruebaAR02_IVA_DDJJ.pdf\", \"rb\")\n",
    "# pdf_read= PyPDF2.PdfFileReader(pdf_file_obj)\n",
    "# info =pdf_read.getDocumentInfo()\n",
    "# print(info)\n",
    "# print(pdf_read.pages)\n",
    "# print(pdf_read.pages[0].extract_text())\n",
    "\n",
    "reader = PdfReader(pdf_file_obj)\n",
    "text = reader.pages[0].extract_text()\n",
    "assert \"Total\" in text, text"
   ]
  },
  {
   "cell_type": "code",
   "execution_count": null,
   "metadata": {},
   "outputs": [
    {
     "name": "stdout",
     "output_type": "stream",
     "text": [
      "{'/Contents': [IndirectObject(37, 0)], '/CropBox': [0, 0, 595.32001, 841.92004], '/MediaBox': [0, 0, 595.32001, 841.92004], '/Parent': IndirectObject(2, 0), '/Resources': IndirectObject(38, 0), '/Rotate': 0, '/Type': '/Page'}\n"
     ]
    },
    {
     "name": "stderr",
     "output_type": "stream",
     "text": [
      "PdfReadWarning: Superfluous whitespace found in object header b'1' b'0' [_reader.py:1235]\n",
      "PdfReadWarning: Superfluous whitespace found in object header b'2' b'0' [_reader.py:1235]\n",
      "PdfReadWarning: Superfluous whitespace found in object header b'3' b'0' [_reader.py:1235]\n"
     ]
    },
    {
     "ename": "NameError",
     "evalue": "name 'watermark' is not defined",
     "output_type": "error",
     "traceback": [
      "\u001b[1;31m---------------------------------------------------------------------------\u001b[0m",
      "\u001b[1;31mNameError\u001b[0m                                 Traceback (most recent call last)",
      "\u001b[1;32md:\\Programacion\\Proyecto Final eKchý\\prueba.ipynb Cell 4'\u001b[0m in \u001b[0;36m<cell line: 6>\u001b[1;34m()\u001b[0m\n\u001b[0;32m      <a href='vscode-notebook-cell:/d%3A/Programacion/Proyecto%20Final%20eKch%C3%BD/prueba.ipynb#ch0000016?line=6'>7</a>\u001b[0m page \u001b[39m=\u001b[39m template\u001b[39m.\u001b[39mgetPage(i)\n\u001b[0;32m      <a href='vscode-notebook-cell:/d%3A/Programacion/Proyecto%20Final%20eKch%C3%BD/prueba.ipynb#ch0000016?line=7'>8</a>\u001b[0m \u001b[39mprint\u001b[39m(page)\n\u001b[1;32m----> <a href='vscode-notebook-cell:/d%3A/Programacion/Proyecto%20Final%20eKch%C3%BD/prueba.ipynb#ch0000016?line=8'>9</a>\u001b[0m page\u001b[39m.\u001b[39mmergePage(watermark\u001b[39m.\u001b[39mgetPage(\u001b[39m0\u001b[39m))\n\u001b[0;32m     <a href='vscode-notebook-cell:/d%3A/Programacion/Proyecto%20Final%20eKch%C3%BD/prueba.ipynb#ch0000016?line=9'>10</a>\u001b[0m output\u001b[39m.\u001b[39maddPage(page)\n",
      "\u001b[1;31mNameError\u001b[0m: name 'watermark' is not defined"
     ]
    }
   ],
   "source": [
    "from PyPDF2 import PdfFileReader, PdfFileWriter,PdfFileMerger\n",
    "pdf_file_obj= open(\"D:\\\\Jazmin\\\\Archivos Personales\\\\Facultad\\\\Facultad Analista de Sistemas\\\\5 CUATRI\\\\4Practica Profesional\\\\Recibos\\\\ARG\\\\PruebaAR02_IVA_DDJJ.pdf\", \"rb\")\n",
    "template = PdfFileReader(pdf_file_obj)\n",
    "output = PdfFileWriter()\n",
    "\n",
    "for i in range(template.getNumPages()):\n",
    "   page = template.getPage(i)\n",
    "   print(page)\n",
    "   page.mergePage(watermark.getPage(0))\n",
    "   output.addPage(page)\n",
    "# file = open('waterMarked_PDF.pdf', 'wb')\n",
    "# output.write(file)"
   ]
  },
  {
   "cell_type": "markdown",
   "metadata": {},
   "source": [
    "### 2) No me sirvio utilizar fitz\n",
    "Intento con html pero no tiene un buen formato para extraer información. "
   ]
  },
  {
   "cell_type": "code",
   "execution_count": null,
   "metadata": {},
   "outputs": [
    {
     "ename": "IndentationError",
     "evalue": "expected an indented block (2866713009.py, line 10)",
     "output_type": "error",
     "traceback": [
      "\u001b[1;36m  Input \u001b[1;32mIn [4]\u001b[1;36m\u001b[0m\n\u001b[1;33m    doct_html=open(\"documento.html\",\"w\")\u001b[0m\n\u001b[1;37m    ^\u001b[0m\n\u001b[1;31mIndentationError\u001b[0m\u001b[1;31m:\u001b[0m expected an indented block\n"
     ]
    }
   ],
   "source": [
    "import fitz \n",
    "doct=fitz.open(\"D:\\\\Jazmin\\\\Archivos Personales\\\\Facultad\\\\Facultad Analista de Sistemas\\\\5 CUATRI\\\\4Practica Profesional\\\\Recibos\\\\COL\\\\VIMEO_SD_PRESENTADA_1BIM_2022.pdf\")\n",
    "pag=doct.load_page(0)\n",
    "resultado=pag.search_for(\"Transactions \")\n",
    "extraer = pag.get_textbox(resultado)\n",
    "pag.get_text(\"xhtml\")\n",
    "for line in convertido:\n",
    "    # print(line)\n",
    "# print(convertido)\n",
    "doct_html=open(\"documento.html\",\"w\")\n",
    "doct_html.write(convertido)\n",
    "doct_html.close()\n",
    "print(doct.get_toc())"
   ]
  },
  {
   "cell_type": "markdown",
   "metadata": {},
   "source": [
    "### 3) Que necesito y utilizo?\n",
    "\n",
    " * Leer los formularios para ello debo instalar \"tabula\" y \"tabulate\" para leer las tablas de los pdfs ya que los datos estan separados por tablas.\n",
    " * También necesito instalar Pandas para analizar los datos y adicional lo requiere Tabula.\n",
    " * Numpy sirve para analizar números.(aún no se ha utilizado) "
   ]
  },
  {
   "cell_type": "markdown",
   "metadata": {},
   "source": [
    "#### 3.1 Lectura de formatos"
   ]
  },
  {
   "cell_type": "code",
   "execution_count": 4,
   "metadata": {},
   "outputs": [
    {
     "name": "stderr",
     "output_type": "stream",
     "text": [
      "'pages' argument isn't specified.Will extract only from page 1 by default.\n",
      "'pages' argument isn't specified.Will extract only from page 1 by default.\n"
     ]
    }
   ],
   "source": [
    "from tabula import read_pdf\n",
    "from tabulate import tabulate\n",
    "import pandas as pd\n",
    "import numpy as np\n",
    "import re #  Es para la notación de cadena raw de Python para los patrones de Unicode (str)\n",
    "import locale # separador de mil en US O UK\n",
    "\n",
    "#**Formulario IvA-ARG\n",
    "ruta_arg = \"D:\\\\Jazmin\\\\Archivos Personales\\\\Facultad\\\\Facultad Analista de Sistemas\\\\5 CUATRI\\\\4Practica Profesional\\\\Recibos\\\\ARG\\\\PruebaAR02_IVA_DDJJ.pdf\"\n",
    "ruta_col = \"D:\\\\Jazmin\\\\Archivos Personales\\\\Facultad\\\\Facultad Analista de Sistemas\\\\5 CUATRI\\\\4Practica Profesional\\\\Recibos\\\\COL\\\\Decla. IVA II BIM 2022 - CO10.PDF\"\n",
    "f_Arg = read_pdf(ruta_arg,multiple_tables=True)\n",
    "f_Col_300 = read_pdf(ruta_col,multiple_tables=True)"
   ]
  },
  {
   "cell_type": "markdown",
   "metadata": {},
   "source": [
    "##### 3.1.1 Lectura de todo el pdf Argentina, extracción y captura de cada item. "
   ]
  },
  {
   "cell_type": "code",
   "execution_count": null,
   "metadata": {},
   "outputs": [
    {
     "name": "stdout",
     "output_type": "stream",
     "text": [
      "Saldo de proveedores por operaciones con empresas promovidas 0,00\n",
      "Total del débito fiscal del período 4.457.547,03\n",
      "Total del crédito fiscal del período 1.143.786,04\n",
      "Ajuste anual del crédito fiscal por operaciones exentas AFIP 0,00\n",
      "nan Contribuyente 0,00\n",
      "Reducción del Saldo Técnico - Beneficio a pequeños contribuyentes Art. 12 Ley 27.618 0,00\n",
      "Saldo a favor del período anterior 0,00\n",
      "Impuesto facturado vinculado con exportaciones perfeccionadas o no en el período o asimilables 0,00\n",
      "Saldo técnico a favor del responsable 0,00\n",
      "Saldo técnico a favor de AFIP 3.313.760,99\n",
      "Crédito fiscal a imputar a otros impuestos por compra de insumos de editores libros, folletos, etc. 0,00\n",
      "Diferimiento F.518 0,00\n",
      "Total F.515 0,00 Total F.518 0,00 Total F.517/1 0,00\n",
      "Determinación de la declaración jurada mensual (incluídos los régimenes promocionales) nan\n",
      "Saldo técnico a favor de AFIP 3.313.760,99\n",
      "- Bonos Fiscales - Decreto N° 1.145/09 0,00\n",
      "Certificados de crédito fiscal - RG 4212 - Art. 9o 0,00\n",
      "Saldo técnico total a favor del responsable incluído el no liberado 0,00\n",
      "Ley No 25.360/2000 0,00\n",
      "Total de Otros Conceptos que disminuyen el \"Saldo Técnico a favor del Responsable\" 0,00\n",
      "Saldo a favor de AFIP 3.313.760,99\n",
      "Saldo a favor de libre disponibilidad del período anterior 0,00\n",
      "Monto utilizado 0,00\n",
      "Total de retenciones, percepciones y pagos a cuenta 346,40\n",
      "Monto de retenciones agropecuarias devuelto en el período 0,00\n",
      "Compensación de créditos fiscales vinculados con exportaciones 0,00\n",
      "Saldo a favor de AFIP neto de compensaciones por exportaciones 3.313.414,59\n",
      "Acrecentamiento por notas de crédito a responsables no inscriptos 0,00\n",
      "Acrecentamiento por operaciones con responsables no inscriptos 0,00\n",
      "Saldo de libre disponibilidad del período 0,00\n",
      "Saldo de impuesto a favor de AFIP 3.313.414,59\n",
      "Total de pagos no bancarios 0,00\n",
      "Monto que se ingresa 3.313.414,59\n"
     ]
    }
   ],
   "source": [
    "año_p= f_Arg[0].iloc[[1],[3]] # pendiente separar cuit y periodo fiscal \n",
    "año_p,len(año_p),type(año_p),año_p.values[0][0] # Identifico como recorrer la lineda y se accede por medio de una array\n",
    "año_pf=año_p.values[0][0]\n",
    "n=año_pf.split(\" \")[0]\n",
    "period= str(n.split(\"-\")[0]) #ok periodo\n",
    "año= int(n.split(\"-\")[1]) #ok año\n",
    "\n",
    "\n",
    "form_unido=f_Arg[0].iloc[[4],[0]] #pendiente separar formulario y razon social \n",
    "a= form_unido.values[0][0]\n",
    "n_for = a.split(\" \")[0] # ok formulario\n",
    "\n",
    "razon_soc2= a.split(\" \")[7]\n",
    "razon_soc1= a.split(\" \")[6]+\" \"+razon_soc2 # ok razon social\n",
    "\n",
    "\n",
    "verifi= f_Arg[0].iloc[[3],[3]] #pendiente separar form, CUIT, actividad principal y N° verificador\n",
    "cod_verif= verifi.values[0][0].split(\" \")[1] # lo identifico, separo y accedo\n",
    "\n",
    "#Lectura accede a la primera y segunda sección \n",
    "for fila in f_Arg[0].loc[11:].itertuples():#salo las primeras 11 filas\n",
    "    print(fila[1], fila[4])\n",
    "\n"
   ]
  },
  {
   "cell_type": "markdown",
   "metadata": {},
   "source": []
  },
  {
   "cell_type": "markdown",
   "metadata": {},
   "source": [
    "##### a) Como extraer CUIT de los pdf? (Argentina)\n",
    "Debo importar \"re\" para buscar expresiones regulares"
   ]
  },
  {
   "cell_type": "code",
   "execution_count": null,
   "metadata": {},
   "outputs": [
    {
     "name": "stdout",
     "output_type": "stream",
     "text": [
      "30-70892838-7\n"
     ]
    }
   ],
   "source": [
    "reg = re.compile(r'[0-9]{2}-[0-9]{8}-[0-9]{1}') # Creo el expresion regular para encontrar el CUIT\n",
    "id_RazonSocial = reg.search(str(f_Arg[0].iloc[[3],[3]])) # Acá eligo la celda donde se encuentra el CUIT junto con otro texto\n",
    "print(id_RazonSocial.group(0)) # Imprimo el resultado CUIT"
   ]
  },
  {
   "cell_type": "markdown",
   "metadata": {},
   "source": [
    "##### b) Como convertir un str a float? \n",
    "Debo de importar libreria \"locale\""
   ]
  },
  {
   "cell_type": "code",
   "execution_count": null,
   "metadata": {},
   "outputs": [
    {
     "name": "stdout",
     "output_type": "stream",
     "text": [
      "<class 'float'> 3313414.59\n",
      "<class 'float'> 0.0\n"
     ]
    }
   ],
   "source": [
    "#Saldo técnico a favor de AFIP\n",
    "saldo_AFIP = f_Arg[0].iloc[[43],[3]] #Saldo de impuesto a favor de AFIP\n",
    "sal_entid = saldo_AFIP.values[0][0].replace(\".\" , \"\") #Accedo al valor pero tengo que limpiar datos para volverlo float \n",
    "#locale.setlocale(locale.LC_ALL, 'en_US.UTF-8') solo para . y ,  pero en entero\n",
    "locale.setlocale(locale.LC_ALL, 'nl_NL') #valor str convertido a float \n",
    "valuo_gob= locale.atof(sal_entid)\n",
    "print(type(valuo_gob), valuo_gob ) # Pendiente convertirlo en numero\n",
    "\n",
    "#--------------------------------------\n",
    "#Saldo técnico a favor del responsable\n",
    "saldo_respon = f_Arg[0].iloc[[42],[3]] #Saldo de impuesto a favor de AFIP\n",
    "sal_respon = saldo_respon.values[0][0]  #Accedo al valor pero tengo que limpiar datos para volverlo float \n",
    "locale.setlocale(locale.LC_ALL, 'nl_NL') #valor str convertido a float \n",
    "valuo_respon= locale.atof(sal_respon)\n",
    "print(type(valuo_respon), valuo_respon ) # Pendiente convertirlo en numero\n"
   ]
  },
  {
   "cell_type": "markdown",
   "metadata": {},
   "source": [
    "##### c) Fomulario de Colombia con dos divisiones \n",
    "Debo de importar libreria de pandas \n",
    "from seaborn \"import load_dataset\""
   ]
  },
  {
   "cell_type": "code",
   "execution_count": 4,
   "metadata": {},
   "outputs": [
    {
     "name": "stdout",
     "output_type": "stream",
     "text": [
      "Pandas(Index=0, _1=nan, _2=nan, _3=nan, _4=nan, _5=nan, Liquidación='Comprasprivada PRIVADA', _7='Ingresos', _8=nan, _9=nan)\n",
      "Pandas(Index=1, _1=nan, _2=nan, _3=nan, _4=nan, _5=nan, Liquidación='Impuesto', _7=nan, _8=nan, _9=nan)\n",
      "Pandas(Index=2, _1=nan, _2=nan, _3=nan, _4=nan, _5=nan, Liquidación='ImportaciónGenerado Nacionales', _7=nan, _8='300', _9=nan)\n",
      "Pandas(Index=3, _1='1. Año 2', _2=0.0, _3='2', _4=2.0, _5=nan, Liquidación='3. Período 2', _7=nan, _8=nan, _9=nan)\n",
      "Pandas(Index=4, _1='Espacio reservado para la DIAN', _2=nan, _3=nan, _4=nan, _5=nan, Liquidación='4. Número de formulario', _7=nan, _8='3004648676658', _9=nan)\n",
      "Pandas(Index=5, _1='5. Número de Identificación Tributaria (NIT)', _2=nan, _3=nan, _4=nan, _5=nan, Liquidación='6. DV 7. Primer apellido 8. Segundo apellido 9. Primer nombre', _7=nan, _8='10. Otros nombres', _9=nan)\n",
      "Pandas(Index=6, _1=nan, _2=nan, _3=nan, _4=9.0, _5='0 0 2 1 8', Liquidación='5 7 8 7', _7=nan, _8=nan, _9=nan)\n",
      "Pandas(Index=7, _1='12.Cód. Dirección 11. Razón social', _2=nan, _3=nan, _4=nan, _5=nan, Liquidación=nan, _7=nan, _8=nan, _9=nan)\n",
      "Pandas(Index=8, _1=nan, _2=nan, _3=nan, _4=nan, _5=nan, Liquidación=nan, _7=nan, _8='seccional', _9=nan)\n",
      "Pandas(Index=9, _1='SISTEMAS COLOMBIA S A S', _2=nan, _3=nan, _4=nan, _5=nan, Liquidación=nan, _7=nan, _8='3 1', _9=nan)\n",
      "Pandas(Index=10, _1='24. Periodicidad26. No. Formulario anteriorde la declaración', _2=nan, _3='B imestral', _4=nan, _5=nan, Liquidación='Si es una corrección indique:25. Cód.', _7=nan, _8=nan, _9=nan)\n",
      "Pandas(Index=11, _1='En venta cerveza de producción nacional o Por operaciones gravadas al 5%', _2=nan, _3=nan, _4=nan, _5=nan, Liquidación='27 0', _7='62', _8=nan, _9=0.0)\n",
      "Pandas(Index=12, _1=nan, _2=nan, _3=nan, _4=nan, _5=nan, Liquidación='importada', _7=nan, _8=nan, _9=nan)\n",
      "Pandas(Index=13, _1='Por operaciones gravadas a la tarifa general', _2=nan, _3=nan, _4=nan, _5=nan, Liquidación='28 11,143,096,000 En venta de gaseosas y similares', _7='63', _8=nan, _9=0.0)\n",
      "Pandas(Index=14, _1='A.I.U por operaciones gravadas', _2=nan, _3=nan, _4=nan, _5=nan, Liquidación='29 0 En venta de licores, aperitivos, vinos y', _7='64', _8=nan, _9=0.0)\n",
      "Pandas(Index=15, _1='(base gravable especial)', _2=nan, _3=nan, _4=nan, _5=nan, Liquidación='similares 5%', _7=nan, _8=nan, _9=nan)\n",
      "Pandas(Index=16, _1='Por exportación de bienes', _2=nan, _3=nan, _4=nan, _5=nan, Liquidación='30 0 En retiro de inventario para activos fijos, consumo, muestras gratis o donaciones', _7='65', _8=nan, _9=0.0)\n",
      "Pandas(Index=17, _1='Por exportación de servicios', _2=nan, _3=nan, _4=nan, _5=nan, Liquidación='31 161,460,966,000 IVA recuperado en devoluciones en compras anuladas, rescindidas o resueltas', _7='66', _8=nan, _9=0.0)\n",
      "Pandas(Index=18, _1='Por ventas a sociedades de comercialización', _2=nan, _3=nan, _4=nan, _5=nan, Liquidación='Total impuesto generado por operaciones 32 0', _7='67', _8='2,125,572,000', _9=nan)\n",
      "Pandas(Index=19, _1='internacional', _2=nan, _3=nan, _4=nan, _5=nan, Liquidación='gravadas', _7=nan, _8=nan, _9=nan)\n",
      "Pandas(Index=20, _1='Por ventas a zonas francas', _2=nan, _3=nan, _4=nan, _5=nan, Liquidación='33 0 Por importaciones gravadas a tarifa del 5%', _7='68', _8=nan, _9=0.0)\n",
      "Pandas(Index=21, _1='Por juegos de suerte y azar', _2=nan, _3=nan, _4=nan, _5=nan, Liquidación='34 0 Por importaciones gravadas la tarifa general', _7='69', _8=nan, _9=0.0)\n",
      "Pandas(Index=22, _1='Por operaciones exentas(Arts. 477, 478 y 481 del ET)', _2=nan, _3=nan, _4=nan, _5=nan, Liquidación='De bienes y servicios gravados provenientes 35 Control de saldos 0 de Zonas Francas', _7='70', _8=nan, _9=0.0)\n",
      "Pandas(Index=23, _1='Por venta de cerveza de producción nacional o', _2=nan, _3=nan, _4=nan, _5=nan, Liquidación=nan, _7=nan, _8=nan, _9=nan)\n",
      "Pandas(Index=24, _1=nan, _2=nan, _3=nan, _4=nan, _5=nan, Liquidación='36 0 Por compras de bieInmeps ugerasvtoa ddoess ac olan tabriflae 5%', _7='71', _8='Impuesto Generado', _9=0.0)\n",
      "Pandas(Index=25, _1='importada', _2=nan, _3=nan, _4=nan, _5=nan, Liquidación=nan, _7=nan, _8=nan, _9=nan)\n",
      "Pandas(Index=26, _1='Por venta de gaseosas y similares', _2=nan, _3=nan, _4=nan, _5=nan, Liquidación='37 0 Por compras de bienes gravados a tarifa', _7='72', _8='40,917,000', _9=nan)\n",
      "Pandas(Index=27, _1=nan, _2=nan, _3=nan, _4=nan, _5=nan, Liquidación='general', _7=nan, _8=nan, _9=nan)\n",
      "Pandas(Index=28, _1='Por venta de licores, aperitivos, vinos y similares', _2=nan, _3=nan, _4=nan, _5=nan, Liquidación='38 0 Por licores, aperitivos, vinos y similares', _7='73', _8=nan, _9=0.0)\n",
      "Pandas(Index=29, _1='Por operaciones excluidas', _2=nan, _3=nan, _4=nan, _5=nan, Liquidación='39 15,351,621,000 Por servicios gravados a la tarifa del 5%', _7='74', _8='113,171,000', _9=nan)\n",
      "Pandas(Index=30, _1='Por operaciones no gravadas', _2=nan, _3=nan, _4=nan, _5=nan, Liquidación='40 3,509,892,000 Por servicios gravados a la tarifa general', _7='75', _8='777,424,000', _9=nan)\n",
      "Pandas(Index=31, _1='Total ingresos brutos', _2=nan, _3=nan, _4=nan, _5=nan, Liquidación='41 191,465,575,000 Descuento IVA exploración hidrocarburos', _7='76', _8=nan, _9=0.0)\n",
      "Pandas(Index=32, _1=nan, _2=nan, _3=nan, _4=nan, _5=nan, Liquidación='Art. 485-2 ET', _7=nan, _8=nan, _9=nan)\n",
      "Pandas(Index=33, _1='Devoluciones en ventas anuladas, rescindidas o', _2=nan, _3=nan, _4=nan, _5=nan, Liquidación='42 0 Total Impuesto pagado o facturado', _7='77', _8='931,512,000', _9=nan)\n",
      "Pandas(Index=34, _1='resueltas', _2=nan, _3=nan, _4=nan, _5=nan, Liquidación=nan, _7=nan, _8=nan, _9=nan)\n",
      "Pandas(Index=35, _1='Total ingresos netos recibidos durante el', _2=nan, _3=nan, _4=nan, _5=nan, Liquidación='IVA retenido por servicios prestados en 43 191,465,575,000', _7='78', _8='121,865,000', _9=nan)\n",
      "Pandas(Index=36, _1='período', _2=nan, _3=nan, _4=nan, _5=nan, Liquidación='Colombia por no domiciliados o no residentes', _7=nan, _8=nan, _9=nan)\n",
      "Pandas(Index=37, _1='IVA resultante por devoluciones en ventas De bienes gravados a la tarifa del 5%', _2=nan, _3=nan, _4=nan, _5=nan, Liquidación='44 0', _7='79', _8=nan, _9=0.0)\n",
      "Pandas(Index=38, _1=nan, _2=nan, _3=nan, _4=nan, _5=nan, Liquidación='anuladas, rescindidas o resueltas', _7=nan, _8=nan, _9=nan)\n",
      "Pandas(Index=39, _1='Ajuste impuestos descontables (perdidas, hurto De bienes gravados a la tarifa general', _2=nan, _3=nan, _4=nan, _5=nan, Liquidación='45 0', _7='80', _8=nan, _9=0.0)\n",
      "Pandas(Index=40, _1=nan, _2=nan, _3=nan, _4=nan, _5=nan, Liquidación='o castigo de inventarios)', _7=nan, _8=nan, _9=nan)\n",
      "Pandas(Index=41, _1='De bienes y servicios gravados provenientes', _2=nan, _3=nan, _4=nan, _5=nan, Liquidación=nan, _7=nan, _8=nan, _9=nan)\n",
      "Pandas(Index=42, _1=nan, _2=nan, _3=nan, _4=nan, _5=nan, Liquidación='46 0 Total impuestos descontables', _7='81', _8='1,053,377,000', _9=nan)\n",
      "Pandas(Index=43, _1='de Zonas Francas', _2=nan, _3=nan, _4=nan, _5=nan, Liquidación=nan, _7=nan, _8=nan, _9=nan)\n",
      "Pandas(Index=44, _1='De bienes no gravados', _2=nan, _3=nan, _4=nan, _5=nan, Liquidación='47 0 Saldo a pagar por el período fiscal', _7='82', _8='1,072,195,000', _9=nan)\n",
      "Pandas(Index=45, _1='De bienes excluidos, exentos y no gravados', _2=nan, _3=nan, _4=nan, _5=nan, Liquidación=nan, _7=nan, _8=nan, _9=nan)\n",
      "Pandas(Index=46, _1=nan, _2=nan, _3=nan, _4=nan, _5=nan, Liquidación='48 5,039,732,000', _7=nan, _8=nan, _9=nan)\n",
      "Pandas(Index=47, _1='provenientes de Zonas Francas', _2=nan, _3=nan, _4=nan, _5=nan, Liquidación='Saldo a favor del período fiscal', _7='83', _8=nan, _9=0.0)\n",
      "Pandas(Index=48, _1='De servicios', _2=nan, _3=nan, _4=nan, _5=nan, Liquidación='49 641,397,000 Saldo a favor del período fiscal anterior', _7='84', _8='393,192,000', _9=nan)\n",
      "Pandas(Index=49, _1='De bienes gravados a la tarifa del 5%', _2=nan, _3=nan, _4=nan, _5=nan, Liquidación='50 0 Retenciones por IVA que le practicaron', _7='85', _8='12,135,000', _9=nan)\n",
      "Pandas(Index=50, _1='De bienes gravados a la tarifa general', _2=nan, _3=nan, _4=nan, _5=nan, Liquidación='51 215,353,000 Saldo a pagar por impuesto', _7='86', _8='666,868,000', _9=nan)\n",
      "Pandas(Index=51, _1='De servicios gravados a la tarifa del 5%', _2=nan, _3=nan, _4=nan, _5=nan, Liquidación='52 2,263,413,000 Sanciones', _7='87', _8=nan, _9=0.0)\n",
      "Pandas(Index=52, _1='De servicios gravados a la tarifa general', _2=nan, _3=nan, _4=nan, _5=nan, Liquidación='53 4,091,704,000 Total saldo a pagar', _7='88', _8='666,868,000', _9=nan)\n",
      "Pandas(Index=53, _1='De bienes y servicios excluidos, exentos y no', _2=nan, _3=nan, _4=nan, _5=nan, Liquidación=nan, _7=nan, _8=nan, _9=nan)\n",
      "Pandas(Index=54, _1=nan, _2=nan, _3=nan, _4=nan, _5=nan, Liquidación='54 4,139,896,000 o Total saldo a favor', _7='89', _8=nan, _9=0.0)\n",
      "Pandas(Index=55, _1='gravados', _2=nan, _3=nan, _4=nan, _5=nan, Liquidación=nan, _7=nan, _8=nan, _9=nan)\n",
      "Pandas(Index=56, _1='Saldo a favor susceptible de devolución y/o Total compras e importaciones brutas', _2=nan, _3=nan, _4=nan, _5=nan, Liquidación='55 16,391,495,000', _7='90', _8=nan, _9=0.0)\n",
      "Pandas(Index=57, _1=nan, _2=nan, _3=nan, _4=nan, _5=nan, Liquidación='compensación por el presente período', _7=nan, _8=nan, _9=nan)\n",
      "Pandas(Index=58, _1='Devoluciones en compras anuladas, rescindidas o', _2=nan, _3=nan, _4=nan, _5=nan, Liquidación='Saldo a favor susceptible de ser devuelto y/o 56 0', _7='91', _8=nan, _9=0.0)\n",
      "Pandas(Index=59, _1='resueltas en este período', _2=nan, _3=nan, _4=nan, _5=nan, Liquidación='compensado a imputar en el  período siguiente', _7=nan, _8=nan, _9=nan)\n",
      "Pandas(Index=60, _1='Total compras netas realizadas durante el', _2=nan, _3=nan, _4=nan, _5=nan, Liquidación='Saldo a favor sin derecho a dev. y/o compensación 57 16,391,495,000', _7='92', _8=nan, _9=0.0)\n",
      "Pandas(Index=61, _1='perÍodo', _2=nan, _3=nan, _4=nan, _5=nan, Liquidación='susceptible de ser imputado en el período siguiente', _7=nan, _8=nan, _9=nan)\n",
      "Pandas(Index=62, _1='Total saldo a favor a imputar al periodo A la tarifa del 5%', _2=nan, _3=nan, _4=nan, _5=nan, Liquidación='58 0', _7='93', _8=nan, _9=0.0)\n",
      "Pandas(Index=63, _1=nan, _2=nan, _3=nan, _4=nan, _5=nan, Liquidación='siguiente', _7=nan, _8=nan, _9=nan)\n",
      "Pandas(Index=64, _1='A la tarifa general', _2=nan, _3=nan, _4=nan, _5=nan, Liquidación='59 2,125,572,000 1', _7='0 4', _8=nan, _9=0.0)\n",
      "Pandas(Index=65, _1='Sobre A.I.U en operaciones gravadas', _2=nan, _3=nan, _4=nan, _5=nan, Liquidación='60 0 2', _7='0 5', _8=nan, _9=0.0)\n",
      "Pandas(Index=66, _1='(base gravable especial)', _2=nan, _3=nan, _4=nan, _5=nan, Liquidación=nan, _7=nan, _8=nan, _9=nan)\n",
      "Pandas(Index=67, _1='En juegos de suerte y azar', _2=nan, _3=nan, _4=nan, _5=nan, Liquidación='61 0 3', _7='0 6', _8=nan, _9=0.0)\n",
      "Pandas(Index=68, _1='101. No. Identificación signatario', _2=nan, _3=nan, _4=nan, _5=nan, Liquidación='102. DV Total anticipos IVA Régimen SIMPLE', _7='100', _8=nan, _9=0.0)\n",
      "Pandas(Index=69, _1='981. Cód. Representación', _2=nan, _3=nan, _4=nan, _5=nan, Liquidación='997. Espacio exclusivo para el s ello de la entidad recaudadora', _7=nan, _8=nan, _9=nan)\n",
      "Pandas(Index=70, _1='Firma del declarante o de quien lo representa', _2=nan, _3=nan, _4=nan, _5=nan, Liquidación=nan, _7=nan, _8='0', _9=nan)\n",
      "Pandas(Index=71, _1=nan, _2=nan, _3=nan, _4=nan, _5=nan, Liquidación='980. Pago total  $', _7=nan, _8=nan, _9=nan)\n",
      "Pandas(Index=72, _1='982. CódFiigrmo aC odnetl addeocrl aor aRnetevi soo dr eF iqsuciaeln lo r epresenta', _2=nan, _3=nan, _4=nan, _5=nan, Liquidación='2 0 2 20 2-02-05 -1 -19 / 91 1/:126:11 2: 2AM6 :1 2996. Espacio para el número interno de la DIAN / Adhesivo', _7=nan, _8=nan, _9=nan)\n",
      "Pandas(Index=73, _1='Firma Contador o Revisor Fiscal', _2=nan, _3=nan, _4=nan, _5='994. Con salvedades', Liquidación=nan, _7=nan, _8=nan, _9=nan)\n",
      "Pandas(Index=74, _1=nan, _2=nan, _3=nan, _4=nan, _5=nan, Liquidación=nan, _7='91000895322840', _8=nan, _9=nan)\n",
      "Pandas(Index=75, _1='983. No. Tarjeta profesional', _2=nan, _3=nan, _4=nan, _5=nan, Liquidación=nan, _7=nan, _8=nan, _9=nan)\n"
     ]
    }
   ],
   "source": [
    "#Lectura accede a la primera y segunda sección \n",
    "for fila in f_Col_300[0].itertuples():#salo las primeras 11 filas\n",
    "    print(fila)\n",
    "#print(f_Col_300)\n",
    "\n"
   ]
  },
  {
   "cell_type": "code",
   "execution_count": 26,
   "metadata": {},
   "outputs": [
    {
     "name": "stdout",
     "output_type": "stream",
     "text": [
      "2 ['SISTEMAS COLOMBIA S A S'] ['1. Año 2' 0.0 '2' 2.0] Unnamed: 6    666,868,000\n",
      "Name: 52, dtype: object\n",
      "Unnamed: 7    0.0\n",
      "Name: 54, dtype: object\n"
     ]
    }
   ],
   "source": [
    "razon_soc1 = f_Col_300[0].iloc[9,[0]].values # linea 9 col 1\n",
    "\n",
    "period= f_Col_300[0].iloc[3,[5]].values[0]\n",
    "reg_per = re.compile(r'Período [1-6]{1}')\n",
    "perio_f= reg_per.search(period)\n",
    "valor = perio_f.group(0).split(' ')\n",
    "valor_periodo = valor[1] # valor periodo asegurado\n",
    "cod_verif = f_Col_300[0].iloc[4,[7]].values \n",
    "año =  f_Col_300[0].iloc[3,[0,1,2,3]].values  # linea verlo de otra forma sacar el año tiene str y  int\n",
    "saldo_pagar= f_Col_300[0].iloc[52,[7]]\n",
    "saldo_favor= f_Col_300[0].iloc[54,[8]]\n",
    "\n",
    "print(valor_periodo, razon_soc1, año, saldo_pagar)\n",
    "print(saldo_favor)\n",
    "\n",
    "\n"
   ]
  },
  {
   "cell_type": "code",
   "execution_count": 71,
   "metadata": {},
   "outputs": [
    {
     "name": "stdout",
     "output_type": "stream",
     "text": [
      "Por operaciones gravadas al 5% 27 0\n",
      " o Eimnp voertnatdaa cerveza de producción nacional o  62 0\n",
      "Por operaciones gravadas a la tarifa general 28 11,143,096,000\n",
      " ad En venta de gaseosas y similares 63 0\n",
      "A(b.aI.sUe p gorra ovapbelrea ceisopneecsi aglr)avadas                                29 0\n",
      " Gen Esinm vilaernetas  5d%e licores, aperitivos, vinos y  64 0\n",
      "Por exportación de bienes 30 0\n",
      " sto  Econn rseutimroo d, em uinevsetnratasr gior aptaisr ao  adcotnivaocsi ofinjoess,  65 0\n",
      "Por exportación de servicios 31 161,460,966,000\n",
      " pue IaVnAu lraedcausp, erreasdcoin ednid adse voo rluecsiuoenletass en compras  66 0\n",
      "Pinoter rvneanctiaosn aal sociedades de comercialización  32 0\n",
      " I Tgoratavla idmapsuesto generado por operaciones  67 2,125,572,000\n",
      "Por ventas a zonas francas 33 0\n",
      " Por importaciones gravadas a tarifa del 5% 68 0\n",
      "s Por juegos de suerte y azar 34 0\n",
      " Por importaciones gravadas la tarifa general 69 0\n",
      "Por venta de gaseosas y similares 37 0\n",
      " ble Pgeonr ecroamlpras de bienes gravados a tarifa  72 40,917,000\n",
      "Por venta de licores, aperitivos, vinos y similares 38 0\n",
      " nta Por licores, aperitivos, vinos y similares 73 0\n",
      "Por operaciones excluidas 39 15,351,621,000\n",
      " sco Por servicios gravados a la tarifa del 5% 74 113,171,000\n",
      "Por operaciones no gravadas 40 3,509,892,000\n",
      " o d Por servicios gravados a la tarifa general 75 777,424,000\n",
      "Total ingresos brutos 41 191,465,575,000\n",
      " puest DArets. c4u8e5n-2to E IVTA exploración hidrocarburos         76 0\n",
      "Dreesvuoellutacsiones en ventas anuladas, rescindidas o  42 0\n",
      " Im Total Impuesto pagado o facturado 77 931,512,000\n",
      "Tpoertaíol dinogresos netos recibidos durante el  43 191,465,575,000\n",
      " ICVoAlo rmetbeinai dpoo rp noor  sdeormviicciiolisa dpores sota ndoo sre esnid entes 78 121,865,000\n",
      "De bienes gravados a la tarifa del 5% 44 0\n",
      " IaVnAu lraedsauslt,a rnetsec ipnodri ddaesv ool urecsiouneeltsa se n ventas  79 0\n",
      "n De bienes gravados a la tarifa general 45 0\n",
      " Ao jcuassteti gimo pduee isntvoesn dtaersiocos)ntables (perdidas, hurto  80 0\n",
      "ació Ddee  Zboiennaess F yr asnecrvaiscios gravados provenientes  46 0\n",
      " Total impuestos descontables 81 1,053,377,000\n",
      "ort De bienes no gravados 47 0\n",
      " Saldo a pagar por el período fiscal 82 1,072,195,000\n",
      "Im Dpreo vbeiennieenst eesx cdluei dZoosn,a esx Fernatnosc ays no gravados  48 5,039,732,000\n",
      " Saldo a favor del período fiscal  83 0\n",
      "De servicios 49 641,397,000\n",
      " Saldo a favor del período fiscal anterior 84 393,192,000\n",
      "pras De bienes gravados a la tarifa del 5% 50 0\n",
      " Retenciones por IVA que le practicaron 85 12,135,000\n",
      "om es De bienes gravados a la tarifa general 51 215,353,000\n",
      " Saldo a pagar por impuesto  86 666,868,000\n",
      "C onal De servicios gravados a la tarifa del 5% 52 2,263,413,000\n",
      " Sanciones 87 0\n",
      "Naci De servicios gravados a la tarifa general 53 4,091,704,000\n",
      " Total saldo a pagar 88 666,868,000\n",
      "Dgrea vbaiednoess y servicios excluidos, exentos y no  54 4,139,896,000\n",
      " o Total saldo a favor  89 0\n",
      "Total compras e importaciones brutas 55 16,391,495,000\n",
      " e  Scoamldpoe an sfaavcoiórn s upsocr eepl tpibreles ednet ed epveorlíuocdióon y/o  90 0\n",
      "982. CódFiigrmo aC odnetl addeocrl aor aRnetevi soo dr eF iqsuciaeln lo r epresenta 2 0 2 220 2-02-055 --119 / 91 1\n"
     ]
    }
   ],
   "source": [
    "import pdfplumber\n",
    "import re\n",
    "ruta_col = \"D:\\\\Jazmin\\\\Archivos Personales\\\\Facultad\\\\Facultad Analista de Sistemas\\\\5 CUATRI\\\\4Practica Profesional\\\\Recibos\\\\COL\\\\Decla. IVA II BIM 2022 - CO10.PDF\"\n",
    "\n",
    "with pdfplumber.open(ruta_col) as pdf:\n",
    "    pag = pdf.pages[0]\n",
    "    text = pag.extract_text()\n",
    "form= text.split('\\n')[0]\n",
    "form_n= text.split('\\n')[3]\n",
    "nombre = text.split('\\n')[4]\n",
    "\n",
    "   \n",
    "\n",
    "# print( form, form_n)\n",
    "# print(text)\n",
    "#Renglon  y valor\n",
    "# for m in re.finditer(r'[0-9]{2}\\s(\\d{1,3}[,]?)+', text):\n",
    "#     print(m.group(0))\n",
    "\n",
    "# for m in re.finditer(r'[0-9]{2}\\s(\\d{1,3}[,]?)+', text):\n",
    "#     print(m.group(0))\n",
    "\n",
    "\n",
    "\n",
    "# Lectura de formulario descripción, renglon y valor\n",
    "for m in re.finditer(r'.+?\\s\\d{2}\\s(\\d{1,3}[,]?){1,}', text):\n",
    "    print(m.group(0))"
   ]
  },
  {
   "cell_type": "code",
   "execution_count": 65,
   "metadata": {},
   "outputs": [
    {
     "name": "stdout",
     "output_type": "stream",
     "text": [
      "2022 2\n"
     ]
    }
   ],
   "source": [
    "\n",
    "# Obtener y limpiar datos e una linea\n",
    "#a = re.compile(r'1. Año\\s([0-9]\\s){4}') \n",
    "#b = a.match(text)\n",
    "b= re.search(r'Año\\s([0-9]\\s){4}', text)\n",
    "año = re.search(r'([0-9]\\s){4}',b.group(0)) \n",
    "periodo = re.search(r'([1-6]\\s){1}',b.group(0)) \n",
    "print(año.group(0).replace(\" \", \"\"), periodo.group(0).replace(\" \", \"\"))\n",
    "\n"
   ]
  },
  {
   "cell_type": "markdown",
   "metadata": {},
   "source": []
  },
  {
   "cell_type": "code",
   "execution_count": null,
   "metadata": {},
   "outputs": [],
   "source": [
    "from decimal import *\n",
    "\n",
    "Context(2,2,)\n",
    "\n",
    "print(Decimal(\"666,868,000\", context={ }))"
   ]
  }
 ],
 "metadata": {
  "kernelspec": {
   "display_name": "Python 3.10.5 ('.venv': venv)",
   "language": "python",
   "name": "python3"
  },
  "language_info": {
   "codemirror_mode": {
    "name": "ipython",
    "version": 3
   },
   "file_extension": ".py",
   "mimetype": "text/x-python",
   "name": "python",
   "nbconvert_exporter": "python",
   "pygments_lexer": "ipython3",
   "version": "3.10.5"
  },
  "orig_nbformat": 4,
  "vscode": {
   "interpreter": {
    "hash": "ec6c55e8b7a757f789375f1c563dd4b051dd4b4c4ddd376a457cb8183b403313"
   }
  }
 },
 "nbformat": 4,
 "nbformat_minor": 2
}
