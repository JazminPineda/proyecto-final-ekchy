{
 "cells": [
  {
   "cell_type": "markdown",
   "metadata": {},
   "source": [
    " # Instalando el ambiente\n",
    "\n",
    "1. Create un nuevo virtualenv, activalo y actualizá `pip`: `python -m venv venv && source venv/bin/activate.fish && python -m pip install --upgrade pip setuptools`,\n",
    "2. Instalá *Jupyter Lab*: `python -m pip install jupyterlab`,\n",
    "3. Instalá las \\\"Google libs\\\": `python -m pip install google-api-python-client google-auth-httplib2 google-auth-oauthlib`,\n",
    "4. Creá un link simbólico que se llame `credentials.json` al JSON que tiene tus credenciales bajadas,\n",
    "\n",
    "Se crea con el objetivo de guardar todas las librerias y dependencias necesarias que requiera el proyecto. "
   ]
  },
  {
   "cell_type": "markdown",
   "metadata": {},
   "source": [
    "# Etapa 1 Extración de los datos de los pdf\n",
    "En este Jupyter notebook creo los bloques con todos los ejemplos para recopilar los direrentes tipos de datos en los pdf.\n",
    "A continuación menciono que no mer sirvio y porque lo descarte. \n"
   ]
  },
  {
   "cell_type": "markdown",
   "metadata": {},
   "source": [
    "### 1) No me sirvio utilizar PyPDF2\n",
    "Es complicado de entender la información ya que me trae metadatos como la fecha de creación del archivo, autor y demás, por lo anterior concluí no me sirve para mi desarrollo. \n",
    "Intenté con otro código pero me sigue generando un error ya teniendo instalado el paquete de PdfReader"
   ]
  },
  {
   "cell_type": "code",
   "execution_count": 2,
   "metadata": {},
   "outputs": [
    {
     "ename": "ModuleNotFoundError",
     "evalue": "No module named 'PyPDF2'",
     "output_type": "error",
     "traceback": [
      "\u001b[0;31m---------------------------------------------------------------------------\u001b[0m",
      "\u001b[0;31mModuleNotFoundError\u001b[0m                       Traceback (most recent call last)",
      "\u001b[1;32m/run/media/jazmin/datos/jazmin/programacion/Proyecto final ekchy/repositorio/docs/repositorio/docs/helper.ipynb Celda 4\u001b[0m in \u001b[0;36m<cell line: 1>\u001b[0;34m()\u001b[0m\n\u001b[0;32m----> <a href='vscode-notebook-cell:/run/media/jazmin/datos/jazmin/programacion/Proyecto%20final%20ekchy/repositorio/docs/repositorio/docs/helper.ipynb#ch0000003?line=0'>1</a>\u001b[0m \u001b[39mimport\u001b[39;00m \u001b[39mPyPDF2\u001b[39;00m \n\u001b[1;32m      <a href='vscode-notebook-cell:/run/media/jazmin/datos/jazmin/programacion/Proyecto%20final%20ekchy/repositorio/docs/repositorio/docs/helper.ipynb#ch0000003?line=1'>2</a>\u001b[0m \u001b[39mimport\u001b[39;00m \u001b[39mPdfReader\u001b[39;00m\n\u001b[1;32m      <a href='vscode-notebook-cell:/run/media/jazmin/datos/jazmin/programacion/Proyecto%20final%20ekchy/repositorio/docs/repositorio/docs/helper.ipynb#ch0000003?line=2'>3</a>\u001b[0m pdf_file_obj\u001b[39m=\u001b[39m \u001b[39mopen\u001b[39m(\u001b[39m\"\u001b[39m\u001b[39mD:\u001b[39m\u001b[39m\\\\\u001b[39;00m\u001b[39mJazmin\u001b[39m\u001b[39m\\\\\u001b[39;00m\u001b[39mArchivos Personales\u001b[39m\u001b[39m\\\\\u001b[39;00m\u001b[39mFacultad\u001b[39m\u001b[39m\\\\\u001b[39;00m\u001b[39mFacultad Analista de Sistemas\u001b[39m\u001b[39m\\\\\u001b[39;00m\u001b[39m5 CUATRI\u001b[39m\u001b[39m\\\\\u001b[39;00m\u001b[39m4Practica Profesional\u001b[39m\u001b[39m\\\\\u001b[39;00m\u001b[39mRecibos\u001b[39m\u001b[39m\\\\\u001b[39;00m\u001b[39mARG\u001b[39m\u001b[39m\\\\\u001b[39;00m\u001b[39mPruebaAR02_IVA_DDJJ.pdf\u001b[39m\u001b[39m\"\u001b[39m, \u001b[39m\"\u001b[39m\u001b[39mrb\u001b[39m\u001b[39m\"\u001b[39m)\n",
      "\u001b[0;31mModuleNotFoundError\u001b[0m: No module named 'PyPDF2'"
     ]
    }
   ],
   "source": [
    "import PyPDF2 \n",
    "import PdfReader\n",
    "pdf_file_obj= open(\"D:\\\\Jazmin\\\\Archivos Personales\\\\Facultad\\\\Facultad Analista de Sistemas\\\\5 CUATRI\\\\4Practica Profesional\\\\Recibos\\\\ARG\\\\PruebaAR02_IVA_DDJJ.pdf\", \"rb\")\n",
    "# pdf_read= PyPDF2.PdfFileReader(pdf_file_obj)\n",
    "# info =pdf_read.getDocumentInfo()\n",
    "# print(info)\n",
    "# print(pdf_read.pages)\n",
    "# print(pdf_read.pages[0].extract_text())\n",
    "\n",
    "reader = PdfReader(pdf_file_obj)\n",
    "text = reader.pages[0].extract_text()\n",
    "assert \"Total\" in text, text"
   ]
  },
  {
   "cell_type": "code",
   "execution_count": null,
   "metadata": {},
   "outputs": [
    {
     "ename": "",
     "evalue": "",
     "output_type": "error",
     "traceback": [
      "\u001b[1;31mLa ejecución de celdas con 'Python 3.10.5 ('.venv': venv)' requieren el paquete ipykernel.\n",
      "Ejecute el siguiente comando para instalar 'ipykernel' en el entorno de Python. comando \r\n",
      ": '\"/run/media/jazmin/datos/jazmin/programacion/Proyecto final ekchy/repositorio/.venv/bin/python\" -m pip install ipykernel -U --force-reinstall'"
     ]
    }
   ],
   "source": [
    "from PyPDF2 import PdfFileReader, PdfFileWriter,PdfFileMerger\n",
    "pdf_file_obj= open(\"D:\\\\Jazmin\\\\Archivos Personales\\\\Facultad\\\\Facultad Analista de Sistemas\\\\5 CUATRI\\\\4Practica Profesional\\\\Recibos\\\\ARG\\\\PruebaAR02_IVA_DDJJ.pdf\", \"rb\")\n",
    "template = PdfFileReader(pdf_file_obj)\n",
    "output = PdfFileWriter()\n",
    "\n",
    "for i in range(template.getNumPages()):\n",
    "   page = template.getPage(i)\n",
    "   print(page)\n",
    "   page.mergePage(watermark.getPage(0))\n",
    "   output.addPage(page)\n",
    "# file = open('waterMarked_PDF.pdf', 'wb')\n",
    "# output.write(file)"
   ]
  },
  {
   "cell_type": "markdown",
   "metadata": {},
   "source": [
    "### 2) No me sirvio utilizar fitz\n",
    "Intento con html pero no tiene un buen formato para extraer información. "
   ]
  },
  {
   "cell_type": "code",
   "execution_count": null,
   "metadata": {},
   "outputs": [
    {
     "ename": "",
     "evalue": "",
     "output_type": "error",
     "traceback": [
      "\u001b[1;31mLa ejecución de celdas con 'Python 3.10.5 ('.venv': venv)' requieren el paquete ipykernel.\n",
      "Ejecute el siguiente comando para instalar 'ipykernel' en el entorno de Python. comando \r\n",
      ": '\"/run/media/jazmin/datos/jazmin/programacion/Proyecto final ekchy/repositorio/.venv/bin/python\" -m pip install ipykernel -U --force-reinstall'"
     ]
    }
   ],
   "source": [
    "import fitz \n",
    "doct=fitz.open(\"D:\\\\Jazmin\\\\Archivos Personales\\\\Facultad\\\\Facultad Analista de Sistemas\\\\5 CUATRI\\\\4Practica Profesional\\\\Recibos\\\\COL\\\\VIMEO_SD_PRESENTADA_1BIM_2022.pdf\")\n",
    "pag=doct.load_page(0)\n",
    "resultado=pag.search_for(\"Transactions \")\n",
    "extraer = pag.get_textbox(resultado)\n",
    "pag.get_text(\"xhtml\")\n",
    "for line in convertido:\n",
    "    # print(line)\n",
    "# print(convertido)\n",
    "doct_html=open(\"documento.html\",\"w\")\n",
    "doct_html.write(convertido)\n",
    "doct_html.close()\n",
    "print(doct.get_toc())"
   ]
  },
  {
   "cell_type": "markdown",
   "metadata": {},
   "source": [
    "### 3) Que necesito y utilizo?\n",
    "\n",
    " * Leer los formularios para ello debo instalar \"tabula\" y \"tabulate\" para leer las tablas de los pdfs ya que los datos estan separados por tablas.\n",
    " * También necesito instalar Pandas para analizar los datos y adicional lo requiere Tabula.\n",
    " * Numpy sirve para analizar números.(aún no se ha utilizado) "
   ]
  },
  {
   "cell_type": "markdown",
   "metadata": {},
   "source": [
    "#### 3.1 Lectura de formatos"
   ]
  },
  {
   "cell_type": "code",
   "execution_count": null,
   "metadata": {},
   "outputs": [],
   "source": [
    "from tabula import read_pdf\n",
    "from tabulate import tabulate\n",
    "import pandas as pd\n",
    "import numpy as np\n",
    "import re #  Es para la notación de cadena raw de Python para los patrones de Unicode (str)\n",
    "import locale # separador de mil en US O UK\n",
    "\n",
    "#**Formulario IvA-ARG\n",
    "ruta_arg = \"D:\\\\Jazmin\\\\Archivos Personales\\\\Facultad\\\\Facultad Analista de Sistemas\\\\5 CUATRI\\\\4Practica Profesional\\\\Recibos\\\\ARG\\\\PruebaAR02_IVA_DDJJ.pdf\"\n",
    "ruta_col = \"D:\\\\Jazmin\\\\Archivos Personales\\\\Facultad\\\\Facultad Analista de Sistemas\\\\5 CUATRI\\\\4Practica Profesional\\\\Recibos\\\\COL\\\\Decla. IVA II BIM 2022 - CO10.PDF\"\n",
    "f_Arg = read_pdf(ruta_arg,multiple_tables=True)\n",
    "f_Col_300 = read_pdf(ruta_col,multiple_tables=True)"
   ]
  },
  {
   "cell_type": "markdown",
   "metadata": {},
   "source": [
    "##### 3.1.1 Lectura de todo el pdf Argentina, extracción y captura de cada item. "
   ]
  },
  {
   "cell_type": "code",
   "execution_count": null,
   "metadata": {},
   "outputs": [],
   "source": [
    "año_p= f_Arg[0].iloc[[1],[3]] # pendiente separar cuit y periodo fiscal \n",
    "año_p,len(año_p),type(año_p),año_p.values[0][0] # Identifico como recorrer la lineda y se accede por medio de una array\n",
    "año_pf=año_p.values[0][0]\n",
    "n=año_pf.split(\" \")[0]\n",
    "period= str(n.split(\"-\")[0]) #ok periodo\n",
    "año= int(n.split(\"-\")[1]) #ok año\n",
    "\n",
    "\n",
    "form_unido=f_Arg[0].iloc[[4],[0]] #pendiente separar formulario y razon social \n",
    "a= form_unido.values[0][0]\n",
    "n_for = a.split(\" \")[0] # ok formulario\n",
    "\n",
    "razon_soc2= a.split(\" \")[7]\n",
    "razon_soc1= a.split(\" \")[6]+\" \"+razon_soc2 # ok razon social\n",
    "\n",
    "\n",
    "verifi= f_Arg[0].iloc[[3],[3]] #pendiente separar form, CUIT, actividad principal y N° verificador\n",
    "cod_verif= verifi.values[0][0].split(\" \")[1] # lo identifico, separo y accedo\n",
    "\n",
    "#Lectura accede a la primera y segunda sección \n",
    "for fila in f_Arg[0].loc[11:].itertuples():#salo las primeras 11 filas\n",
    "    print(fila[1], fila[4])\n",
    "\n"
   ]
  },
  {
   "cell_type": "markdown",
   "metadata": {},
   "source": []
  },
  {
   "cell_type": "markdown",
   "metadata": {},
   "source": [
    "##### a) Como extraer CUIT de los pdf? (Argentina)\n",
    "Debo importar \"re\" para buscar expresiones regulares"
   ]
  },
  {
   "cell_type": "code",
   "execution_count": null,
   "metadata": {},
   "outputs": [],
   "source": [
    "reg = re.compile(r'[0-9]{2}-[0-9]{8}-[0-9]{1}') # Creo el expresion regular para encontrar el CUIT\n",
    "id_RazonSocial = reg.search(str(f_Arg[0].iloc[[3],[3]])) # Acá eligo la celda donde se encuentra el CUIT junto con otro texto\n",
    "print(id_RazonSocial.group(0)) # Imprimo el resultado CUIT"
   ]
  },
  {
   "cell_type": "markdown",
   "metadata": {},
   "source": [
    "##### b) Como convertir un str a float? \n",
    "Debo de importar libreria \"locale\""
   ]
  },
  {
   "cell_type": "code",
   "execution_count": null,
   "metadata": {},
   "outputs": [],
   "source": [
    "#Saldo técnico a favor de AFIP\n",
    "saldo_AFIP = f_Arg[0].iloc[[43],[3]] #Saldo de impuesto a favor de AFIP\n",
    "sal_entid = saldo_AFIP.values[0][0].replace(\".\" , \"\") #Accedo al valor pero tengo que limpiar datos para volverlo float \n",
    "#locale.setlocale(locale.LC_ALL, 'en_US.UTF-8') solo para . y ,  pero en entero\n",
    "locale.setlocale(locale.LC_ALL, 'nl_NL') #valor str convertido a float \n",
    "valuo_gob= locale.atof(sal_entid)\n",
    "print(type(valuo_gob), valuo_gob ) # Pendiente convertirlo en numero\n",
    "\n",
    "#--------------------------------------\n",
    "#Saldo técnico a favor del responsable\n",
    "saldo_respon = f_Arg[0].iloc[[42],[3]] #Saldo de impuesto a favor de AFIP\n",
    "sal_respon = saldo_respon.values[0][0]  #Accedo al valor pero tengo que limpiar datos para volverlo float \n",
    "locale.setlocale(locale.LC_ALL, 'nl_NL') #valor str convertido a float \n",
    "valuo_respon= locale.atof(sal_respon)\n",
    "print(type(valuo_respon), valuo_respon ) # Pendiente convertirlo en numero\n"
   ]
  },
  {
   "cell_type": "markdown",
   "metadata": {},
   "source": [
    "##### c) Fomulario de Colombia con dos divisiones \n",
    "Debo de importar libreria de pandas \n",
    "from seaborn \"import load_dataset\""
   ]
  },
  {
   "cell_type": "code",
   "execution_count": null,
   "metadata": {},
   "outputs": [],
   "source": [
    "#Lectura accede a la primera y segunda sección \n",
    "for fila in f_Col_300[0].itertuples():#salo las primeras 11 filas\n",
    "    print(fila)\n",
    "#print(f_Col_300)\n",
    "\n"
   ]
  },
  {
   "cell_type": "code",
   "execution_count": null,
   "metadata": {},
   "outputs": [],
   "source": [
    "razon_soc1 = f_Col_300[0].iloc[9,[0]].values # linea 9 col 1\n",
    "\n",
    "period= f_Col_300[0].iloc[3,[5]].values[0]\n",
    "reg_per = re.compile(r'Período [1-6]{1}')\n",
    "perio_f= reg_per.search(period)\n",
    "valor = perio_f.group(0).split(' ')\n",
    "valor_periodo = valor[1] # valor periodo asegurado\n",
    "cod_verif = f_Col_300[0].iloc[4,[7]].values \n",
    "año =  f_Col_300[0].iloc[3,[0,1,2,3]].values  # linea verlo de otra forma sacar el año tiene str y  int\n",
    "saldo_pagar= f_Col_300[0].iloc[52,[7]]\n",
    "saldo_favor= f_Col_300[0].iloc[54,[8]]\n",
    "\n",
    "print(valor_periodo, razon_soc1, año, saldo_pagar)\n",
    "print(saldo_favor)\n",
    "\n",
    "\n"
   ]
  },
  {
   "cell_type": "markdown",
   "metadata": {},
   "source": [
    "### 4) Libreria pdf pluber ##\n",
    "\n",
    "\n",
    "En el proceso de revisión y ejecución de extracción de los datos elegí extraerlos con la libreria pdf plumber, es mucho mas legible el proceso de los datos.\n",
    "\n",
    "Docuemntación\n",
    "[https://github.com/jsvine/pdfplumber#extracting-form-values]\n"
   ]
  },
  {
   "cell_type": "code",
   "execution_count": null,
   "metadata": {},
   "outputs": [],
   "source": [
    "import pdfplumber\n",
    "import re\n",
    "ruta_col = \"D:\\\\Jazmin\\\\Archivos Personales\\\\Facultad\\\\Facultad Analista de Sistemas\\\\5 CUATRI\\\\4Practica Profesional\\\\Recibos\\\\COL\\\\Decla. IVA II BIM 2022 - CO10.PDF\"\n",
    "\n",
    "with pdfplumber.open(ruta_col) as pdf:\n",
    "    pag = pdf.pages[0]\n",
    "    text = pag.extract_text()\n",
    "form= text.split('\\n')[0]\n",
    "form_n= text.split('\\n')[3]\n",
    "nombre = text.split('\\n')[4]\n",
    "\n",
    "   \n",
    "\n",
    "# print( form, form_n)\n",
    "# print(text)\n",
    "#Renglon  y valor\n",
    "# for m in re.finditer(r'[0-9]{2}\\s(\\d{1,3}[,]?)+', text):\n",
    "#     print(m.group(0))\n",
    "\n",
    "# for m in re.finditer(r'[0-9]{2}\\s(\\d{1,3}[,]?)+', text):\n",
    "#     print(m.group(0))\n",
    "\n",
    "\n",
    "\n",
    "# Lectura de formulario descripción, renglon y valor\n",
    "for m in re.finditer(r'.+?\\s\\d{2}\\s(\\d{1,3}[,]?){1,}', text):\n",
    "    print(m.group(0))"
   ]
  },
  {
   "cell_type": "code",
   "execution_count": null,
   "metadata": {},
   "outputs": [],
   "source": [
    "\n",
    "# Obtener y limpiar datos e una linea\n",
    "#a = re.compile(r'1. Año\\s([0-9]\\s){4}') \n",
    "#b = a.match(text)\n",
    "b= re.search(r'Año\\s([0-9]\\s){4}', text)\n",
    "año = re.search(r'([0-9]\\s){4}',b.group(0)) \n",
    "periodo = re.search(r'([1-6]\\s){1}',b.group(0)) \n",
    "print(año.group(0).replace(\" \", \"\"), periodo.group(0).replace(\" \", \"\"))\n",
    "\n"
   ]
  },
  {
   "cell_type": "markdown",
   "metadata": {},
   "source": []
  },
  {
   "cell_type": "code",
   "execution_count": null,
   "metadata": {},
   "outputs": [],
   "source": [
    "from decimal import *\n",
    "\n",
    "Context(2,2,)\n",
    "\n",
    "print(Decimal(\"666,868,000\", context={ }))"
   ]
  },
  {
   "cell_type": "markdown",
   "metadata": {},
   "source": [
    "En el formato de de Mexico no leia correctamente el nombre y unia todas las palabras, se tuvo que revisar la libreria de pdfplumber\n",
    "\n",
    "\n",
    "#.extract_text(x_tolerance=3, y_tolerance=3, layout=False, x_density=7.25, y_density=13, **kwargs)\n",
    "\n",
    "Cuando layout=False: Agrega espacios donde la diferencia entre el x1 de un carácter y el x0 del siguiente es mayor que [x_tolerance]. Agrega caracteres de nueva línea donde la diferencia entre el doctop de un carácter y el doctop del siguiente es mayor que y_tolerance.\n",
    "\n",
    "Referencia:\n",
    "\n",
    "https://github.com/jsvine/pdfplumber#python-library\n"
   ]
  },
  {
   "cell_type": "code",
   "execution_count": null,
   "metadata": {},
   "outputs": [],
   "source": [
    "from posixpath import split\n",
    "import pdfplumber\n",
    "import re\n",
    "#  Es para la notación de cadena raw de Python para los patrones de Unicode (str)\n",
    "import locale # separador de mil en US O UK\n",
    "\n",
    "\n",
    "ruta_mex = \"./../../../app/dataextraction/Recibos/MEX/MEX_VAT_Feb2022_Detail.pdf\"\n",
    "\n",
    "cconcepto= []\n",
    "with pdfplumber.open(ruta_mex) as pdf:\n",
    "    pag = pdf.pages[0]\n",
    "    \n",
    "    text = pag.extract_text()\n",
    "    lineas =text.split('\\n')\n",
    "\n",
    "concepto ={}\n",
    "print(text)\n",
    "for linea in lineas:\n",
    "    concepto.append(linea)"
   ]
  },
  {
   "cell_type": "markdown",
   "metadata": {},
   "source": [
    "# Etapa 2 Creación Entorno Docker (ver together love)\n",
    "\n",
    "Se crea configuraciones y ambiente para que se ejecute Docker se incorpora Django para que funcione aplicación. \n",
    "El proceso que se tuvo que realizar es el siguiente:\n",
    "\n",
    "sin embargo se tuvo que incluir propias especificas de python.\n",
    "1. Se agrega un [Dockerfile](https://docs.docker.com/engine/reference/builder/) para ejecutar el\n",
    "aplicación con [Docker](https://docs.docker.com/get-started/).\n",
    "\n",
    "2. Antes de ejecutar su aplicación con un contenedor acoplable, debe crear su imagen acoplable.\n",
    "3. Descargue una imagen oficial de python y ingreso a  Docker \n",
    "4. La imagen no tiene soporte de requerimientos por eso incluyo adicional unas librerias propias de lo que voy a utilizar [Django] (https://docs.djangoproject.com/en/4.1/).Es por eso que hay un archivo `requirements.txt`.\n",
    "5. El archivo `requirements.txt` se exportó con `poetry`.\n",
    "\n",
    "## a) Que configiraciones adicionales tuve que realizar para mi base de datos?\n",
    "\n",
    "1. Tuve que crear un Mock para simular la realidad, se incluyen unos parametros para que pueda leer los archivos. [Test_commands.py]\n",
    "\n",
    "2. Se llama la funcion y la pasa [database = defaul] me crear una base al iniciar, y verfica que se llamo con  [assert_called.with]\n",
    "\n",
    "3. Se crear archivo [wait_for_db.py] comando que verifica si esta **conectada** se crea una bandera [banderas_db.up]\n",
    "Mientras que sea falso, salta la sentencia True generando directamente un **except** . Esta prueba me identifica que esta funcionando con un loop, sino conecta salta el error hasta que pueda conectar con la base de datos. \n",
    "\n",
    "4. Me genero un *error* \"For production one .. paycocp2 advisc you distribution\". Lo cual no me permitia visualizar si estaba corriendo bien la aplicacion. Probe varias cosas lo cual dejo como enseñanza:\n",
    "\n",
    "    4.1 El comando **delta** se ingresa a la terminal para visualizar los requirimientos y agregarlos en el archivo. Comando [pp intall-r requerimientos.txt]\n",
    "\n",
    "    4.2 Se tubo que ingresar libreias y cada vez que se incluia una debia actualizar la imagen [docker compose build].\n",
    "\n",
    "    4.3 Cuando hace falta una configiracion en la base de datos se salta el error en el test porque no lo reconoce, me fallaba varias veces por que fataba por incluir el tample o los datos fuente de conexión DATABASE.  \n",
    "    \n",
    "    4.4 Importante, se deben agregar todas las carpetas para que los pueda encontrar \"user\" y \"core\" que son las aplicaciones propias que se agregan para que funcione la aplicaccion. En mi caso tuve que incluir  en el archivo requisitos se debe ingresar en la configuración mi APP Setting InstalV_APP. \n",
    "\n",
    "5. Se incluye los test donde comprueba errores mientras que se carga la aplicación, si da exito ejecuta el proceso de la APP si es FALSO, muestra como se deberia tratar tal error. \n",
    "    \n",
    "    5.1 Creación de pruebas unitarias para los modulos de un [usuario] en [django]. El usuario registrarse con su emial y contraseña, el sistema internamente lo crea con **ID**.\n",
    "\n",
    "    5.2 Prueba united donde se normaliza el email.\n",
    "\n",
    "    5.3 Cuando se crea un usuario sin email retorna error. \n",
    "\n",
    "\n",
    "    "
   ]
  }
 ],
 "metadata": {
  "kernelspec": {
   "display_name": "Python 3.10.5 ('.venv': venv)",
   "language": "python",
   "name": "python3"
  },
  "language_info": {
   "codemirror_mode": {
    "name": "ipython",
    "version": 3
   },
   "file_extension": ".py",
   "mimetype": "text/x-python",
   "name": "python",
   "nbconvert_exporter": "python",
   "pygments_lexer": "ipython3",
   "version": "3.10.5"
  },
  "orig_nbformat": 4,
  "vscode": {
   "interpreter": {
    "hash": "ec6c55e8b7a757f789375f1c563dd4b051dd4b4c4ddd376a457cb8183b403313"
   }
  }
 },
 "nbformat": 4,
 "nbformat_minor": 2
}
