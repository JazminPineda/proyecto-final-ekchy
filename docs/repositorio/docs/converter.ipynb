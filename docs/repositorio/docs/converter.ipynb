{
 "cells": [
  {
   "cell_type": "code",
   "execution_count": 85,
   "metadata": {},
   "outputs": [
    {
     "name": "stdout",
     "output_type": "stream",
     "text": [
      "{1: {}, 2: {}, 3: {}, 4: {}, 5: {}, 6: {}, 7: {}, 8: {}, 9: {}, 10: {}, 11: {}, 12: {}, 13: {}, 14: {}, 15: {}, 16: {}, 17: {}, 18: {}, 19: {}, 20: {}, 21: {}, 22: {}, 23: {}, 24: {}, 25: {}, 26: {}, 27: {}, 28: {}, 29: {}, 30: {'000384': {'encabezado': ['000384', 'SAP doc. no. ', '5100002391', 'REVERSED NUMBER:    5100002402', '                             ', '              ', 'Document type:        :                    ', '                                                                                           ', '\\n'], 'registros': []}}, 31: {}, 32: {}, 33: {}, 34: {}, 35: {}, 36: {}, 37: {}, 38: {}, 39: {}, 40: {}, 41: {}, 42: {}, 43: {'15000037  ': {'encabezado': ['15000037  ', 'VAT Credit 19% Forei', '    32.229.921,60 ', '             0,00 ', '    32.229.921,60 ', '\\n'], 'registros': []}}, 44: {}, 45: {}, 46: {}, 47: {}}\n",
      "Terminé\n"
     ]
    }
   ],
   "source": [
    "import openpyxl # creo archivo excel\n",
    "import pandas as pd\n",
    "import re\n",
    "ruta_archivo = \"D:\\\\Programacion\\\\Proyecto Final eKchý\\\\converter_compras\\\\inputs\\\\IVA COMPRAS MENSUAL CO10_J_1AF205_20220608_052018.txt\"\n",
    "\n",
    "# wb = openpyxl.Workbook()\n",
    "# hoja = wb.active\n",
    "campos_no_deseados = [\n",
    "    \"Company\", \n",
    "    \"---------------\",\n",
    "    \"Tax number:\",\n",
    "    \"Registration Number in IGJ:\",\n",
    "    \"T O T A L S\",\n",
    "    \"TOTALS\",\n",
    "    \"ENTRIES\",\n",
    "    \"CO10\"\n",
    "]\n",
    "identificador_principal = re.compile(r'[0-9]{6}') \n",
    "identificador_registros = re.compile(r'[A-Z]{1}[0-9]{1}') \n",
    "campos = []\n",
    "datos = {}\n",
    "index = None\n",
    "#Manejador de contexto\n",
    "with open(ruta_archivo,\"r\", encoding='UTF-8') as archivo:\n",
    "    for linea in archivo:\n",
    "        if not [False for campo in campos_no_deseados if campo in linea] and len(linea) > 0 and not linea.isspace():\n",
    "            row = linea.split(\"|\")[1:]\n",
    "            # print(row)\n",
    "            regex_prin = identificador_principal.search(row[0])\n",
    "            regex_reg = identificador_registros.search(row[0])\n",
    "            es_principal = True if regex_prin and regex_prin.end() > 0 else False\n",
    "            es_registro = True if regex_reg and regex_reg.end() > 0 else False\n",
    "            index = int(row[0]) if len(row) == 2 and not es_principal and not es_registro else index\n",
    "            datos[index]={}\n",
    "            # print(identificador_principal.search(row[0]),identificador_principal.search(row[0]).end(), row)\n",
    "            id_registro = row[0] if es_principal else id_registro\n",
    "            if es_principal:\n",
    "                datos[index][id_registro] = { 'encabezado':row, 'registros':[]}\n",
    "                # datos[index][id_registro]['encabezado':] = row\n",
    "            if es_registro and id_registro in datos[index]:\n",
    "                print(datos)\n",
    "                datos[index][id_registro]['registros'].append(row)\n",
    "# with open(ruta_archivo,\"r\", encoding='UTF-8') as archivo:\n",
    "#     for linea in archivo:\n",
    "#         print(linea)\n",
    "print(datos)\n",
    "# wb.save('D:\\\\Programacion\\\\Proyecto Final eKchý\\\\converter_compras\\\\inputs\\\\data_prueba1.xlsx')        \n",
    "print('Terminé')"
   ]
  },
  {
   "cell_type": "code",
   "execution_count": 90,
   "metadata": {},
   "outputs": [
    {
     "name": "stdout",
     "output_type": "stream",
     "text": [
      "Terminé\n"
     ]
    }
   ],
   "source": [
    "import openpyxl # creo archivo excel\n",
    "import pandas as pd\n",
    "import re\n",
    "ruta_archivo = \"D:\\\\Programacion\\\\Proyecto Final eKchý\\\\converter_compras\\\\inputs\\\\IVA COMPRAS MENSUAL CO10_J_1AF205_20220608_052018.txt\"\n",
    "\n",
    "wb = openpyxl.Workbook()\n",
    "hoja1 = wb.active\n",
    "hoja2 = wb.create_sheet(\"detalles\")\n",
    "hoja3 = wb.create_sheet(\"reversos\")\n",
    "campos_no_deseados = [\n",
    "    \"Company\", \n",
    "    \"---------------\",\n",
    "    \"Tax number:\",\n",
    "    \"Registration Number in IGJ:\",\n",
    "    \"T O T A L S\",\n",
    "    \"TOTALS\",\n",
    "    \"ENTRIES\",\n",
    "    \"CO10\",\n",
    "    \"T003_I\",            \n",
    "    \"T007S\",              \n",
    "    \"T028M\",              \n",
    "\n",
    "]\n",
    "identificador_principal = re.compile(r'[0-9]{6}') \n",
    "identificador_registros = re.compile(r'[A-Z]{1}[0-9]{1}') \n",
    "principales = []\n",
    "registros = []\n",
    "index = None\n",
    "#Manejador de contexto\n",
    "with open(ruta_archivo,\"r\", encoding='UTF-8') as archivo:\n",
    "    for linea in archivo:\n",
    "        if not [False for campo in campos_no_deseados if campo in linea] and len(linea) > 0 and not linea.isspace():\n",
    "            # Se divide en columas y utilizando [1:] se toma desde la columna con indece 1 hasta el final\n",
    "            # sacando columna en blanco\n",
    "            row = linea.split(\"|\")[1:] \n",
    "            regex_prin = identificador_principal.search(row[0]) # Se identifica con fila con el regex\n",
    "            regex_reg = identificador_registros.search(row[0])\n",
    "            reverso = 'SAP doc. no.' in row[1] # se identifica el reverso\n",
    "            es_principal = True if regex_prin and regex_prin.end() > 0 and not reverso else False\n",
    "            es_registro = True if regex_reg and regex_reg.end() > 0 else False\n",
    "            es_reverso = True if regex_prin and reverso else False\n",
    "            if es_principal: \n",
    "                principales.append(row)\n",
    "                hoja1.append(row)\n",
    "            if es_registro:\n",
    "                registros.append(row)\n",
    "                hoja2.append(row)\n",
    "            if es_reverso:\n",
    "                hoja3.append(row)\n",
    "\n",
    "wb.save('D:\\\\Programacion\\\\Proyecto Final eKchý\\\\converter_compras\\\\inputs\\\\data_prueba1.xlsx')\n",
    "print('Terminé')"
   ]
  },
  {
   "cell_type": "code",
   "execution_count": 58,
   "metadata": {},
   "outputs": [
    {
     "name": "stdout",
     "output_type": "stream",
     "text": [
      "['__class__', '__copy__', '__deepcopy__', '__delattr__', '__dir__', '__doc__', '__eq__', '__format__', '__ge__', '__getattribute__', '__getitem__', '__gt__', '__hash__', '__init__', '__init_subclass__', '__le__', '__lt__', '__ne__', '__new__', '__reduce__', '__reduce_ex__', '__repr__', '__setattr__', '__sizeof__', '__str__', '__subclasshook__', 'end', 'endpos', 'expand', 'group', 'groupdict', 'groups', 'lastgroup', 'lastindex', 'pos', 're', 'regs', 'span', 'start', 'string'] 2\n"
     ]
    }
   ],
   "source": [
    "import re\n",
    "\n",
    "rex = re.compile(r'([0-9].)')\n",
    "result = rex.search('1,2,3,45689')\n",
    "print(dir(result), result.end())"
   ]
  }
 ],
 "metadata": {
  "kernelspec": {
   "display_name": "Python 3.8.8 ('venv': venv)",
   "language": "python",
   "name": "python3"
  },
  "language_info": {
   "codemirror_mode": {
    "name": "ipython",
    "version": 3
   },
   "file_extension": ".py",
   "mimetype": "text/x-python",
   "name": "python",
   "nbconvert_exporter": "python",
   "pygments_lexer": "ipython3",
   "version": "3.8.8"
  },
  "orig_nbformat": 4,
  "vscode": {
   "interpreter": {
    "hash": "17d5175e0b92b84936b2085e629a85ff2e85e2ac725f3db7f04808319dd7b5e7"
   }
  }
 },
 "nbformat": 4,
 "nbformat_minor": 2
}
