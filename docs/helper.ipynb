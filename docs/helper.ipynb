{
 "cells": [
  {
   "cell_type": "markdown",
   "metadata": {},
   "source": [
    "# Etapa 1 Extración de los datos de los pdf\n",
    "En este Jupyter notebook creo los bloques con todos los ejemplos para recopilar los direrentes tipos de datos en los pdf.\n",
    "A continuación menciono que no mer sirvio y porque lo descarte. \n"
   ]
  },
  {
   "cell_type": "markdown",
   "metadata": {},
   "source": [
    "### 1) No me sirvio utilizar PyPDF2\n",
    "Es complicado de entender la información ya que me trae metadatos como la fecha de creación del archivo, autor y demás, por lo anterior concluí no me sirve para mi desarrollo. \n",
    "Intenté con otro código pero me sigue generando un error ya teniendo instalado el paquete de PdfReader"
   ]
  },
  {
   "cell_type": "code",
   "execution_count": 29,
   "metadata": {},
   "outputs": [
    {
     "name": "stderr",
     "output_type": "stream",
     "text": [
      "\n",
      "KeyboardInterrupt\n",
      "\n"
     ]
    }
   ],
   "source": [
    "import PyPDF2 \n",
    "import PdfReader\n",
    "pdf_file_obj= open(\"D:\\\\Jazmin\\\\Archivos Personales\\\\Facultad\\\\Facultad Analista de Sistemas\\\\5 CUATRI\\\\4Practica Profesional\\\\Recibos\\\\ARG\\\\PruebaAR02_IVA_DDJJ.pdf\", \"rb\")\n",
    "# pdf_read= PyPDF2.PdfFileReader(pdf_file_obj)\n",
    "# info =pdf_read.getDocumentInfo()\n",
    "# print(info)\n",
    "# print(pdf_read.pages)\n",
    "# print(pdf_read.pages[0].extract_text())\n",
    "\n",
    "reader = PdfReader(pdf_file_obj)\n",
    "text = reader.pages[0].extract_text()\n",
    "assert \"Total\" in text, text"
   ]
  },
  {
   "cell_type": "code",
   "execution_count": 17,
   "metadata": {},
   "outputs": [
    {
     "name": "stdout",
     "output_type": "stream",
     "text": [
      "{'/Contents': [IndirectObject(37, 0)], '/CropBox': [0, 0, 595.32001, 841.92004], '/MediaBox': [0, 0, 595.32001, 841.92004], '/Parent': IndirectObject(2, 0), '/Resources': IndirectObject(38, 0), '/Rotate': 0, '/Type': '/Page'}\n"
     ]
    },
    {
     "name": "stderr",
     "output_type": "stream",
     "text": [
      "PdfReadWarning: Superfluous whitespace found in object header b'1' b'0' [_reader.py:1235]\n",
      "PdfReadWarning: Superfluous whitespace found in object header b'2' b'0' [_reader.py:1235]\n",
      "PdfReadWarning: Superfluous whitespace found in object header b'3' b'0' [_reader.py:1235]\n"
     ]
    },
    {
     "ename": "NameError",
     "evalue": "name 'watermark' is not defined",
     "output_type": "error",
     "traceback": [
      "\u001b[1;31m---------------------------------------------------------------------------\u001b[0m",
      "\u001b[1;31mNameError\u001b[0m                                 Traceback (most recent call last)",
      "\u001b[1;32md:\\Programacion\\Proyecto Final eKchý\\prueba.ipynb Cell 4'\u001b[0m in \u001b[0;36m<cell line: 6>\u001b[1;34m()\u001b[0m\n\u001b[0;32m      <a href='vscode-notebook-cell:/d%3A/Programacion/Proyecto%20Final%20eKch%C3%BD/prueba.ipynb#ch0000016?line=6'>7</a>\u001b[0m page \u001b[39m=\u001b[39m template\u001b[39m.\u001b[39mgetPage(i)\n\u001b[0;32m      <a href='vscode-notebook-cell:/d%3A/Programacion/Proyecto%20Final%20eKch%C3%BD/prueba.ipynb#ch0000016?line=7'>8</a>\u001b[0m \u001b[39mprint\u001b[39m(page)\n\u001b[1;32m----> <a href='vscode-notebook-cell:/d%3A/Programacion/Proyecto%20Final%20eKch%C3%BD/prueba.ipynb#ch0000016?line=8'>9</a>\u001b[0m page\u001b[39m.\u001b[39mmergePage(watermark\u001b[39m.\u001b[39mgetPage(\u001b[39m0\u001b[39m))\n\u001b[0;32m     <a href='vscode-notebook-cell:/d%3A/Programacion/Proyecto%20Final%20eKch%C3%BD/prueba.ipynb#ch0000016?line=9'>10</a>\u001b[0m output\u001b[39m.\u001b[39maddPage(page)\n",
      "\u001b[1;31mNameError\u001b[0m: name 'watermark' is not defined"
     ]
    }
   ],
   "source": [
    "from PyPDF2 import PdfFileReader, PdfFileWriter,PdfFileMerger\n",
    "pdf_file_obj= open(\"D:\\\\Jazmin\\\\Archivos Personales\\\\Facultad\\\\Facultad Analista de Sistemas\\\\5 CUATRI\\\\4Practica Profesional\\\\Recibos\\\\ARG\\\\PruebaAR02_IVA_DDJJ.pdf\", \"rb\")\n",
    "template = PdfFileReader(pdf_file_obj)\n",
    "output = PdfFileWriter()\n",
    "\n",
    "for i in range(template.getNumPages()):\n",
    "   page = template.getPage(i)\n",
    "   print(page)\n",
    "   page.mergePage(watermark.getPage(0))\n",
    "   output.addPage(page)\n",
    "# file = open('waterMarked_PDF.pdf', 'wb')\n",
    "# output.write(file)"
   ]
  },
  {
   "cell_type": "markdown",
   "metadata": {},
   "source": [
    "### 2) No me sirvio utilizar fitz\n",
    "Intento con html pero no tiene un buen formato para extraer información. "
   ]
  },
  {
   "cell_type": "code",
   "execution_count": 28,
   "metadata": {},
   "outputs": [
    {
     "ename": "SyntaxError",
     "evalue": "unexpected EOF while parsing (759463994.py, line 14)",
     "output_type": "error",
     "traceback": [
      "\u001b[1;36m  Input \u001b[1;32mIn [28]\u001b[1;36m\u001b[0m\n\u001b[1;33m    # print(doct.get_toc())\u001b[0m\n\u001b[1;37m                           ^\u001b[0m\n\u001b[1;31mSyntaxError\u001b[0m\u001b[1;31m:\u001b[0m unexpected EOF while parsing\n"
     ]
    }
   ],
   "source": [
    "import fitz \n",
    "doct=fitz.open(\"D:\\\\Jazmin\\\\Archivos Personales\\\\Facultad\\\\Facultad Analista de Sistemas\\\\5 CUATRI\\\\4Practica Profesional\\\\Recibos\\\\COL\\\\VIMEO_SD_PRESENTADA_1BIM_2022.pdf\")\n",
    "pag=doct.load_page(0)\n",
    "resultado=pag.search_for(\"Transactions \")\n",
    "extraer = pag.get_textbox(resultado)\n",
    "\n",
    "convertido=pag.get_text(\"xhtml\")\n",
    "for line in convertido:\n",
    "    # print(line)\n",
    "# print(convertido)\n",
    "# doct_html=open(\"documento.html\",\"w\")\n",
    "# doct_html.write(convertido)\n",
    "# doct_html.close()\n",
    "# print(doct.get_toc())"
   ]
  },
  {
   "cell_type": "markdown",
   "metadata": {},
   "source": [
    "### 3) Que necesito y utilizo?\n",
    "\n",
    " * Leer los formularios para ello debo instalar \"tabula\" y \"tabulate\" para leer las tablas de los pdfs ya que los datos estan separados por tablas.\n",
    " * También necesito instalar Pandas para analizar los datos y adicional lo requiere Tabula.\n",
    " * Numpy sirve para analizar números.(aún no se ha utilizado) "
   ]
  },
  {
   "cell_type": "markdown",
   "metadata": {},
   "source": [
    "#### 3.1 Lectura de formatos"
   ]
  },
  {
   "cell_type": "code",
   "execution_count": 39,
   "metadata": {},
   "outputs": [
    {
     "name": "stderr",
     "output_type": "stream",
     "text": [
      "'pages' argument isn't specified.Will extract only from page 1 by default.\n"
     ]
    }
   ],
   "source": [
    "from tabula import read_pdf\n",
    "from tabulate import tabulate\n",
    "import pandas as pd\n",
    "import numpy as np\n",
    "import re\n",
    "\n",
    "#**Formulario IvA-ARG\n",
    "f_Arg=read_pdf(\"D:\\\\Jazmin\\\\Archivos Personales\\\\Facultad\\\\Facultad Analista de Sistemas\\\\5 CUATRI\\\\4Practica Profesional\\\\Recibos\\\\ARG\\\\PruebaAR02_IVA_DDJJ.pdf\")"
   ]
  },
  {
   "cell_type": "markdown",
   "metadata": {},
   "source": [
    "##### 3.1.1 Lectura de todo el pdf Argentina, extracción y captura de cada item. "
   ]
  },
  {
   "cell_type": "code",
   "execution_count": 3,
   "metadata": {},
   "outputs": [
    {
     "ename": "NameError",
     "evalue": "name 'f_Arg' is not defined",
     "output_type": "error",
     "traceback": [
      "\u001b[1;31m---------------------------------------------------------------------------\u001b[0m",
      "\u001b[1;31mNameError\u001b[0m                                 Traceback (most recent call last)",
      "\u001b[1;32md:\\Programacion\\Proyecto Final eKchý\\prueba.ipynb Cell 11'\u001b[0m in \u001b[0;36m<cell line: 1>\u001b[1;34m()\u001b[0m\n\u001b[1;32m----> <a href='vscode-notebook-cell:/d%3A/Programacion/Proyecto%20Final%20eKch%C3%BD/prueba.ipynb#ch0000010?line=0'>1</a>\u001b[0m año_p\u001b[39m=\u001b[39m f_Arg[\u001b[39m0\u001b[39m]\u001b[39m.\u001b[39miloc[[\u001b[39m1\u001b[39m],[\u001b[39m3\u001b[39m]] \u001b[39m# pendiente separar cuit y periodo fiscal \u001b[39;00m\n\u001b[0;32m      <a href='vscode-notebook-cell:/d%3A/Programacion/Proyecto%20Final%20eKch%C3%BD/prueba.ipynb#ch0000010?line=1'>2</a>\u001b[0m año_p,\u001b[39mlen\u001b[39m(año_p),\u001b[39mtype\u001b[39m(año_p),año_p\u001b[39m.\u001b[39mvalues[\u001b[39m0\u001b[39m][\u001b[39m0\u001b[39m] \u001b[39m# Identifico como recorrer la lineda y se accede por medio de una array\u001b[39;00m\n\u001b[0;32m      <a href='vscode-notebook-cell:/d%3A/Programacion/Proyecto%20Final%20eKch%C3%BD/prueba.ipynb#ch0000010?line=2'>3</a>\u001b[0m año_pf\u001b[39m=\u001b[39maño_p\u001b[39m.\u001b[39mvalues[\u001b[39m0\u001b[39m][\u001b[39m0\u001b[39m]\n",
      "\u001b[1;31mNameError\u001b[0m: name 'f_Arg' is not defined"
     ]
    }
   ],
   "source": [
    "año_p= f_Arg[0].iloc[[1],[3]] # pendiente separar cuit y periodo fiscal \n",
    "año_p,len(año_p),type(año_p),año_p.values[0][0] # Identifico como recorrer la lineda y se accede por medio de una array\n",
    "año_pf=año_p.values[0][0]\n",
    "n=año_pf.split(\" \")[0]\n",
    "period= n.split(\"-\")[0] #ok\n",
    "año= n.split(\"-\")[1] #ok\n",
    "print(año)\n",
    "\n",
    "form_unido=f_Arg[0].iloc[[4],[0]] #pendiente separar formulario y razon social \n",
    "a= form_unido.values[0][0]\n",
    "fomul= a.split(\" \")[0] # ok\n",
    "\n",
    "razon_soc2= a.split(\" \")[7]\n",
    "razon_soc1= a.split(\" \")[6]+razon_soc2\n",
    "\n",
    "\n",
    "\n",
    "print(razon_soc1 )\n",
    "\n",
    "\n",
    "# nit= esta todo unido activi principal \n",
    "# reg = re.compile(r'[0-9]{2}-[0-9]{4}') # Creo el expresion regular para encontrar el periodo\n",
    "# res = reg.search(str(año_p.values))\n",
    "# print(res.group(0))\n",
    "# \n",
    "#actividad_princ= print(doct[0].iloc[[3],[3]]) #pendiente separar form, CUIT, actividad principal y N° verificador\n",
    "\n",
    "#Saldo_proveedores = print(str(doct[0].iloc[[11],[3]])) #pendiente separar CUIT y valor \n",
    "\n",
    "#valores todos\n",
    "\n",
    "# for fila in doct[0].loc[11:].itertuples():#salo las primeras 11 filas\n",
    "#     print(fila[1], fila[4])"
   ]
  },
  {
   "cell_type": "markdown",
   "metadata": {},
   "source": [
    "##### a) Como extraer CUIT de los pdf? (Argentina)"
   ]
  },
  {
   "cell_type": "code",
   "execution_count": 43,
   "metadata": {},
   "outputs": [
    {
     "name": "stdout",
     "output_type": "stream",
     "text": [
      "30-70892838-7\n"
     ]
    }
   ],
   "source": [
    "reg = re.compile(r'[0-9]{2}-[0-9]{8}-[0-9]{1}') # Creo el expresion regular para encontrar el CUIT\n",
    "cuit = reg.search(str(f_Arg[0].iloc[[3],[3]])) # Acá eligo la celda donde se encuentra el CUIT junto con otro texto\n",
    "print(cuit.group(0)) # Imprimo el resultado"
   ]
  }
 ],
 "metadata": {
  "kernelspec": {
   "display_name": "Python 3.8.8 ('venv': venv)",
   "language": "python",
   "name": "python3"
  },
  "language_info": {
   "codemirror_mode": {
    "name": "ipython",
    "version": 3
   },
   "file_extension": ".py",
   "mimetype": "text/x-python",
   "name": "python",
   "nbconvert_exporter": "python",
   "pygments_lexer": "ipython3",
   "version": "3.8.8"
  },
  "orig_nbformat": 4,
  "vscode": {
   "interpreter": {
    "hash": "17d5175e0b92b84936b2085e629a85ff2e85e2ac725f3db7f04808319dd7b5e7"
   }
  }
 },
 "nbformat": 4,
 "nbformat_minor": 2
}
